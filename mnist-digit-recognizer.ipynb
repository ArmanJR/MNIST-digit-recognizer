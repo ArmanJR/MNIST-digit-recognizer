{
 "cells": [
  {
   "cell_type": "markdown",
   "execution_count": null,
   "metadata": {
    "papermill": {
     "duration": 0.005743,
     "end_time": "2020-09-09T14:18:55.815829",
     "exception": false,
     "start_time": "2020-09-09T14:18:55.810086",
     "status": "completed"
    },
    "tags": []
   },
   "source": [
    "# Hello World! \n",
    "This is my very first machine learning project. So I expect a lot of warnings, errors and absolute-piece-of-shit validation scores. Here we go."
   ]
  },
  {
   "cell_type": "code",
   "execution_count": 1,
   "metadata": {
    "_cell_guid": "b1076dfc-b9ad-4769-8c92-a6c4dae69d19",
    "_uuid": "8f2839f25d086af736a60e9eeb907d3b93b6e0e5",
    "execution": {
     "iopub.execute_input": "2020-09-09T14:18:55.836193Z",
     "iopub.status.busy": "2020-09-09T14:18:55.835376Z",
     "iopub.status.idle": "2020-09-09T14:19:26.650000Z",
     "shell.execute_reply": "2020-09-09T14:19:26.649305Z"
    },
    "papermill": {
     "duration": 30.829736,
     "end_time": "2020-09-09T14:19:26.650128",
     "exception": false,
     "start_time": "2020-09-09T14:18:55.820392",
     "status": "completed"
    },
    "tags": []
   },
   "outputs": [
    {
     "name": "stdout",
     "output_type": "stream",
     "text": [
      "/kaggle/input/digit-recognizer/test.csv\n",
      "/kaggle/input/digit-recognizer/sample_submission.csv\n",
      "/kaggle/input/digit-recognizer/train.csv\n"
     ]
    }
   ],
   "source": [
    "# This Python 3 environment comes with many helpful analytics libraries installed\n",
    "# It is defined by the kaggle/python Docker image: https://github.com/kaggle/docker-python\n",
    "# For example, here's several helpful packages to load\n",
    "\n",
    "import numpy as np # linear algebra\n",
    "import pandas as pd # data processing, CSV file I/O (e.g. pd.read_csv)\n",
    "from sklearn.model_selection import train_test_split\n",
    "from tensorflow import keras\n",
    "\n",
    "# Input data files are available in the read-only \"../input/\" directory\n",
    "# For example, running this (by clicking run or pressing Shift+Enter) will list all files under the input directory\n",
    "\n",
    "import os\n",
    "for dirname, _, filenames in os.walk('/kaggle/input'):\n",
    "    for filename in filenames:\n",
    "        print(os.path.join(dirname, filename))\n",
    "\n",
    "# You can write up to 5GB to the current directory (/kaggle/working/) that gets preserved as output when you create a version using \"Save & Run All\" \n",
    "# You can also write temporary files to /kaggle/temp/, but they won't be saved outside of the current session\n",
    "\n",
    "img_rows, img_cols = 28, 28\n",
    "num_classes = 10\n",
    "\n",
    "def prep_data(raw):\n",
    "    y = raw[:, 0]\n",
    "    out_y = keras.utils.to_categorical(y, num_classes)\n",
    "    \n",
    "    x = raw[:,1:]\n",
    "    num_images = raw.shape[0]\n",
    "    out_x = x.reshape(num_images, img_rows, img_cols, 1)\n",
    "    out_x = out_x / 255\n",
    "    return out_x, out_y\n",
    "\n",
    "file = \"/kaggle/input/digit-recognizer/train.csv\"\n",
    "data = np.loadtxt(file, skiprows=1, delimiter=',')\n",
    "x, y = prep_data(data)"
   ]
  },
  {
   "cell_type": "markdown",
   "execution_count": null,
   "metadata": {
    "papermill": {
     "duration": 0.004415,
     "end_time": "2020-09-09T14:19:26.659542",
     "exception": false,
     "start_time": "2020-09-09T14:19:26.655127",
     "status": "completed"
    },
    "tags": []
   },
   "source": [
    "# Building The Model"
   ]
  },
  {
   "cell_type": "code",
   "execution_count": 2,
   "metadata": {
    "_cell_guid": "79c7e3d0-c299-4dcb-8224-4455121ee9b0",
    "_uuid": "d629ff2d2480ee46fbb7e2d37f6b5fab8052498a",
    "execution": {
     "iopub.execute_input": "2020-09-09T14:19:26.679354Z",
     "iopub.status.busy": "2020-09-09T14:19:26.678782Z",
     "iopub.status.idle": "2020-09-09T14:19:29.587764Z",
     "shell.execute_reply": "2020-09-09T14:19:29.586813Z"
    },
    "papermill": {
     "duration": 2.9241,
     "end_time": "2020-09-09T14:19:29.587887",
     "exception": false,
     "start_time": "2020-09-09T14:19:26.663787",
     "status": "completed"
    },
    "tags": []
   },
   "outputs": [],
   "source": [
    "from tensorflow.keras.models import Sequential\n",
    "from tensorflow.keras.layers import Dense, Flatten, Conv2D, Dropout\n",
    "\n",
    "model = Sequential()\n",
    "model.add(Conv2D(12, kernel_size=(3,3), activation='relu', input_shape=(img_rows, img_cols, 1)))\n",
    "model.add(Conv2D(12, kernel_size=(3,3), activation='relu'))\n",
    "model.add(Conv2D(12, kernel_size=(3,3), activation='relu'))\n",
    "model.add(Conv2D(12, kernel_size=(3,3), activation='relu'))\n",
    "model.add(Flatten())\n",
    "model.add(Dense(100, activation='relu'))\n",
    "model.add(Dense(num_classes, activation='softmax'))"
   ]
  },
  {
   "cell_type": "markdown",
   "execution_count": null,
   "metadata": {
    "papermill": {
     "duration": 0.004302,
     "end_time": "2020-09-09T14:19:29.596844",
     "exception": false,
     "start_time": "2020-09-09T14:19:29.592542",
     "status": "completed"
    },
    "tags": []
   },
   "source": [
    "# Compiling"
   ]
  },
  {
   "cell_type": "code",
   "execution_count": 3,
   "metadata": {
    "execution": {
     "iopub.execute_input": "2020-09-09T14:19:29.617080Z",
     "iopub.status.busy": "2020-09-09T14:19:29.616172Z",
     "iopub.status.idle": "2020-09-09T14:19:29.622580Z",
     "shell.execute_reply": "2020-09-09T14:19:29.622099Z"
    },
    "papermill": {
     "duration": 0.021521,
     "end_time": "2020-09-09T14:19:29.622679",
     "exception": false,
     "start_time": "2020-09-09T14:19:29.601158",
     "status": "completed"
    },
    "tags": []
   },
   "outputs": [],
   "source": [
    "model.compile(loss='categorical_crossentropy', optimizer='adam', metrics=['accuracy'])"
   ]
  },
  {
   "cell_type": "markdown",
   "execution_count": null,
   "metadata": {
    "papermill": {
     "duration": 0.004145,
     "end_time": "2020-09-09T14:19:29.631123",
     "exception": false,
     "start_time": "2020-09-09T14:19:29.626978",
     "status": "completed"
    },
    "tags": []
   },
   "source": [
    "# Fitting"
   ]
  },
  {
   "cell_type": "code",
   "execution_count": 4,
   "metadata": {
    "execution": {
     "iopub.execute_input": "2020-09-09T14:19:29.644642Z",
     "iopub.status.busy": "2020-09-09T14:19:29.644044Z",
     "iopub.status.idle": "2020-09-09T14:20:11.793226Z",
     "shell.execute_reply": "2020-09-09T14:20:11.792711Z"
    },
    "papermill": {
     "duration": 42.157751,
     "end_time": "2020-09-09T14:20:11.793336",
     "exception": false,
     "start_time": "2020-09-09T14:19:29.635585",
     "status": "completed"
    },
    "tags": []
   },
   "outputs": [
    {
     "name": "stdout",
     "output_type": "stream",
     "text": [
      "Epoch 1/25\n",
      "336/336 [==============================] - 2s 5ms/step - loss: 0.2434 - accuracy: 0.9288 - val_loss: 0.0794 - val_accuracy: 0.9758\n",
      "Epoch 2/25\n",
      "336/336 [==============================] - 1s 4ms/step - loss: 0.0700 - accuracy: 0.9790 - val_loss: 0.0773 - val_accuracy: 0.9764\n",
      "Epoch 3/25\n",
      "336/336 [==============================] - 1s 4ms/step - loss: 0.0452 - accuracy: 0.9862 - val_loss: 0.0702 - val_accuracy: 0.9790\n",
      "Epoch 4/25\n",
      "336/336 [==============================] - 1s 4ms/step - loss: 0.0311 - accuracy: 0.9896 - val_loss: 0.0547 - val_accuracy: 0.9840\n",
      "Epoch 5/25\n",
      "336/336 [==============================] - 1s 4ms/step - loss: 0.0235 - accuracy: 0.9921 - val_loss: 0.0571 - val_accuracy: 0.9845\n",
      "Epoch 6/25\n",
      "336/336 [==============================] - 1s 4ms/step - loss: 0.0165 - accuracy: 0.9947 - val_loss: 0.0609 - val_accuracy: 0.9823\n",
      "Epoch 7/25\n",
      "336/336 [==============================] - 2s 5ms/step - loss: 0.0132 - accuracy: 0.9954 - val_loss: 0.0786 - val_accuracy: 0.9789\n",
      "Epoch 8/25\n",
      "336/336 [==============================] - 1s 4ms/step - loss: 0.0099 - accuracy: 0.9966 - val_loss: 0.0754 - val_accuracy: 0.9845\n",
      "Epoch 9/25\n",
      "336/336 [==============================] - 1s 4ms/step - loss: 0.0104 - accuracy: 0.9965 - val_loss: 0.0628 - val_accuracy: 0.9860\n",
      "Epoch 10/25\n",
      "336/336 [==============================] - 2s 5ms/step - loss: 0.0068 - accuracy: 0.9979 - val_loss: 0.0778 - val_accuracy: 0.9825\n",
      "Epoch 11/25\n",
      "336/336 [==============================] - 1s 4ms/step - loss: 0.0059 - accuracy: 0.9977 - val_loss: 0.0873 - val_accuracy: 0.9829\n",
      "Epoch 12/25\n",
      "336/336 [==============================] - 1s 4ms/step - loss: 0.0112 - accuracy: 0.9961 - val_loss: 0.0628 - val_accuracy: 0.9862\n",
      "Epoch 13/25\n",
      "336/336 [==============================] - 2s 5ms/step - loss: 0.0038 - accuracy: 0.9987 - val_loss: 0.0836 - val_accuracy: 0.9842\n",
      "Epoch 14/25\n",
      "336/336 [==============================] - 2s 5ms/step - loss: 0.0069 - accuracy: 0.9976 - val_loss: 0.0659 - val_accuracy: 0.9849\n",
      "Epoch 15/25\n",
      "336/336 [==============================] - 1s 4ms/step - loss: 0.0051 - accuracy: 0.9985 - val_loss: 0.0706 - val_accuracy: 0.9863\n",
      "Epoch 16/25\n",
      "336/336 [==============================] - 1s 4ms/step - loss: 0.0033 - accuracy: 0.9989 - val_loss: 0.0924 - val_accuracy: 0.9821\n",
      "Epoch 17/25\n",
      "336/336 [==============================] - 1s 4ms/step - loss: 0.0060 - accuracy: 0.9979 - val_loss: 0.0794 - val_accuracy: 0.9838\n",
      "Epoch 18/25\n",
      "336/336 [==============================] - 1s 4ms/step - loss: 0.0051 - accuracy: 0.9982 - val_loss: 0.0830 - val_accuracy: 0.9837\n",
      "Epoch 19/25\n",
      "336/336 [==============================] - 1s 4ms/step - loss: 0.0033 - accuracy: 0.9988 - val_loss: 0.0866 - val_accuracy: 0.9857\n",
      "Epoch 20/25\n",
      "336/336 [==============================] - 2s 5ms/step - loss: 0.0045 - accuracy: 0.9985 - val_loss: 0.0882 - val_accuracy: 0.9843\n",
      "Epoch 21/25\n",
      "336/336 [==============================] - 1s 4ms/step - loss: 0.0022 - accuracy: 0.9993 - val_loss: 0.0872 - val_accuracy: 0.9852\n",
      "Epoch 22/25\n",
      "336/336 [==============================] - 2s 5ms/step - loss: 0.0058 - accuracy: 0.9981 - val_loss: 0.0727 - val_accuracy: 0.9871\n",
      "Epoch 23/25\n",
      "336/336 [==============================] - 1s 4ms/step - loss: 0.0035 - accuracy: 0.9991 - val_loss: 0.0820 - val_accuracy: 0.9868\n",
      "Epoch 24/25\n",
      "336/336 [==============================] - 1s 4ms/step - loss: 5.3989e-04 - accuracy: 0.9999 - val_loss: 0.0794 - val_accuracy: 0.9882\n",
      "Epoch 25/25\n",
      "336/336 [==============================] - 1s 4ms/step - loss: 0.0021 - accuracy: 0.9992 - val_loss: 0.0969 - val_accuracy: 0.9842\n"
     ]
    },
    {
     "data": {
      "text/plain": [
       "<tensorflow.python.keras.callbacks.History at 0x7f3612f26910>"
      ]
     },
     "execution_count": 4,
     "metadata": {},
     "output_type": "execute_result"
    }
   ],
   "source": [
    "model.fit(x, y, batch_size=100, epochs=25, validation_split=0.2)"
   ]
  },
  {
   "cell_type": "markdown",
   "execution_count": null,
   "metadata": {
    "papermill": {
     "duration": 0.039319,
     "end_time": "2020-09-09T14:20:11.873121",
     "exception": false,
     "start_time": "2020-09-09T14:20:11.833802",
     "status": "completed"
    },
    "tags": []
   },
   "source": [
    "# Validation Score"
   ]
  },
  {
   "cell_type": "code",
   "execution_count": 5,
   "metadata": {
    "execution": {
     "iopub.execute_input": "2020-09-09T14:20:11.959867Z",
     "iopub.status.busy": "2020-09-09T14:20:11.958715Z",
     "iopub.status.idle": "2020-09-09T14:20:14.818151Z",
     "shell.execute_reply": "2020-09-09T14:20:14.819091Z"
    },
    "papermill": {
     "duration": 2.905499,
     "end_time": "2020-09-09T14:20:14.819262",
     "exception": false,
     "start_time": "2020-09-09T14:20:11.913763",
     "status": "completed"
    },
    "tags": []
   },
   "outputs": [
    {
     "name": "stdout",
     "output_type": "stream",
     "text": [
      "Test loss: 0.023630134761333466 / Test accuracy: 0.9953333139419556\n"
     ]
    }
   ],
   "source": [
    "score = model.evaluate(x, y, verbose=0)\n",
    "print(f'Test loss: {score[0]} / Test accuracy: {score[1]}')"
   ]
  },
  {
   "cell_type": "markdown",
   "execution_count": null,
   "metadata": {
    "papermill": {
     "duration": 0.040381,
     "end_time": "2020-09-09T14:20:14.900367",
     "exception": false,
     "start_time": "2020-09-09T14:20:14.859986",
     "status": "completed"
    },
    "tags": []
   },
   "source": [
    "# Preparing Test Data"
   ]
  },
  {
   "cell_type": "code",
   "execution_count": 6,
   "metadata": {
    "execution": {
     "iopub.execute_input": "2020-09-09T14:20:14.987299Z",
     "iopub.status.busy": "2020-09-09T14:20:14.986687Z",
     "iopub.status.idle": "2020-09-09T14:20:30.900041Z",
     "shell.execute_reply": "2020-09-09T14:20:30.899410Z"
    },
    "papermill": {
     "duration": 15.959202,
     "end_time": "2020-09-09T14:20:30.900160",
     "exception": false,
     "start_time": "2020-09-09T14:20:14.940958",
     "status": "completed"
    },
    "tags": []
   },
   "outputs": [],
   "source": [
    "def prep_test_data(raw):\n",
    "    x = raw[:,0:]\n",
    "    num_images = raw.shape[0]\n",
    "    out_x = x.reshape(num_images, img_rows, img_cols, 1)\n",
    "    out_x = out_x / 255\n",
    "    return out_x\n",
    "\n",
    "val_file = \"/kaggle/input/digit-recognizer/test.csv\"\n",
    "val_data = np.loadtxt(val_file, skiprows=1, delimiter=',')\n",
    "x_test = prep_test_data(val_data)"
   ]
  },
  {
   "cell_type": "markdown",
   "execution_count": null,
   "metadata": {
    "papermill": {
     "duration": 0.039822,
     "end_time": "2020-09-09T14:20:30.981791",
     "exception": false,
     "start_time": "2020-09-09T14:20:30.941969",
     "status": "completed"
    },
    "tags": []
   },
   "source": [
    "# Predicting & Saving"
   ]
  },
  {
   "cell_type": "code",
   "execution_count": 7,
   "metadata": {
    "execution": {
     "iopub.execute_input": "2020-09-09T14:20:31.071008Z",
     "iopub.status.busy": "2020-09-09T14:20:31.069954Z",
     "iopub.status.idle": "2020-09-09T14:20:32.375721Z",
     "shell.execute_reply": "2020-09-09T14:20:32.374548Z"
    },
    "papermill": {
     "duration": 1.352887,
     "end_time": "2020-09-09T14:20:32.375871",
     "exception": false,
     "start_time": "2020-09-09T14:20:31.022984",
     "status": "completed"
    },
    "tags": []
   },
   "outputs": [],
   "source": [
    "predictions = model.predict_classes(x_test)\n",
    "\n",
    "indexes = [i for i in range(1,len(val_data)+1)]\n",
    "output = pd.DataFrame({'ImageId': indexes,'Label': predictions})\n",
    "output.to_csv('submission.csv', index=False)"
   ]
  }
 ],
 "metadata": {
  "kernelspec": {
   "display_name": "Python 3",
   "language": "python",
   "name": "python3"
  },
  "language_info": {
   "codemirror_mode": {
    "name": "ipython",
    "version": 3
   },
   "file_extension": ".py",
   "mimetype": "text/x-python",
   "name": "python",
   "nbconvert_exporter": "python",
   "pygments_lexer": "ipython3",
   "version": "3.7.6"
  },
  "papermill": {
   "duration": 102.955239,
   "end_time": "2020-09-09T14:20:34.338977",
   "environment_variables": {},
   "exception": null,
   "input_path": "__notebook__.ipynb",
   "output_path": "__notebook__.ipynb",
   "parameters": {},
   "start_time": "2020-09-09T14:18:51.383738",
   "version": "2.1.0"
  }
 },
 "nbformat": 4,
 "nbformat_minor": 4
}
